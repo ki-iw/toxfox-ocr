{
 "cells": [
  {
   "cell_type": "markdown",
   "metadata": {},
   "source": [
    "# Download data\n",
    "\n",
    "We have data in google drive, and in this notebook we download it locally. \n",
    "- Get the service account key from 1 password, and place it in the following folder: \n",
    "```\n",
    "authentication/toxfox_key.json\n",
    "```\n",
    "- A new folder 'data' is created with the following structure: \n",
    "```\n",
    "data/ \n",
    "    product_0/\n",
    "        Barcode/\n",
    "        Inhaltsstoffe/\n",
    "        formular_answers.csv\n",
    "    product_1/\n",
    "    product_2/\n",
    "    ... \n",
    "```\n"
   ]
  },
  {
   "cell_type": "code",
   "execution_count": 7,
   "metadata": {},
   "outputs": [],
   "source": [
    "import os\n",
    "import gspread \n",
    "import pandas as pd\n",
    "import io\n",
    "import yaml\n",
    "\n",
    "from google.oauth2.service_account import Credentials\n",
    "from googleapiclient.discovery import build\n",
    "from googleapiclient.http import MediaIoBaseDownload\n"
   ]
  },
  {
   "cell_type": "code",
   "execution_count": 8,
   "metadata": {},
   "outputs": [],
   "source": [
    "key_name = \"toxfox-785dcbf7e0e8.json\"\n",
    "credentials_paths = os.path.join(os.path.dirname(os.getcwd()), 'authentication', key_name)"
   ]
  },
  {
   "cell_type": "code",
   "execution_count": 9,
   "metadata": {},
   "outputs": [],
   "source": [
    "# Define gdrive and gspread \n",
    "scopes = [\n",
    "    'https://www.googleapis.com/auth/spreadsheets.readonly',\n",
    "    'https://www.googleapis.com/auth/drive'\n",
    "]\n",
    "\n",
    "credentials = Credentials.from_service_account_file(\n",
    "     credentials_paths,\n",
    "     scopes=scopes \n",
    ")\n",
    "\n",
    "gspread = gspread.authorize(credentials)\n",
    "gdrive = build('drive', 'v3', credentials=credentials)\n"
   ]
  },
  {
   "cell_type": "code",
   "execution_count": 10,
   "metadata": {},
   "outputs": [],
   "source": [
    "# URL to our spreadsheet \n",
    "sheet = gspread.open_by_url(\"https://docs.google.com/spreadsheets/d/1FNWNfpF9nGIEdwVllR6OWesE4aZnAHxeiuv7Zbb4rbI/edit#gid=836349214\")\n",
    "answer = sheet.get_worksheet(0)\n",
    "all_answers = answer.get_all_values()\n",
    "dataframe = pd.DataFrame(all_answers[1:], columns=all_answers[0])\n",
    "\n"
   ]
  },
  {
   "cell_type": "code",
   "execution_count": 11,
   "metadata": {},
   "outputs": [],
   "source": [
    "data_dir = os.path.join(os.path.dirname(os.getcwd()), 'data','raw')\n",
    "\n",
    "# Create data directory \n",
    "if not os.path.exists(data_dir):\n",
    "    os.makedirs(data_dir)\n"
   ]
  },
  {
   "cell_type": "code",
   "execution_count": 12,
   "metadata": {},
   "outputs": [],
   "source": [
    "\n",
    "def download_file(save_path:str, file_name: str, file_id: str):\n",
    "    '''Download a file from Google Drive'''\n",
    "    request_file = gdrive.files().get_media(fileId=file_id)\n",
    "    file = io.BytesIO()\n",
    "    downloader = MediaIoBaseDownload(file, request_file)\n",
    "    done = False\n",
    "    while done is False:\n",
    "        status, done = downloader.next_chunk()\n",
    "    file_retrieved = file.getvalue()\n",
    "    with open(os.path.join(save_path, file_name), 'wb') as f:\n",
    "        f.write(file_retrieved)"
   ]
  },
  {
   "cell_type": "code",
   "execution_count": null,
   "metadata": {},
   "outputs": [],
   "source": []
  },
  {
   "cell_type": "code",
   "execution_count": 13,
   "metadata": {},
   "outputs": [
    {
     "name": "stdout",
     "output_type": "stream",
     "text": [
      "Downloading data from 58 products...\n",
      "downloading product:  0\n",
      "downloading product:  1\n"
     ]
    }
   ],
   "source": [
    "# Download all images \n",
    "columns = dataframe.columns \n",
    "image_columns = ['Inhaltsstoffe', 'Barcode']\n",
    "drop_columns = ['E-Mail-Adresse']\n",
    "\n",
    "print(f\"Downloading data from {len(dataframe)} products...\")\n",
    "\n",
    "for index in dataframe.index[0:2]: \n",
    "    formular_answers = dataframe[dataframe.columns[~dataframe.columns.isin(image_columns+drop_columns)]].iloc[index]\n",
    "\n",
    "    print(\"downloading product: \", index)\n",
    "    save_dir = os.path.join(data_dir, f'product_{index}')\n",
    "    if not os.path.exists(save_dir):\n",
    "        os.makedirs(save_dir)\n",
    "    \n",
    "    # Save anwers \n",
    "    with open(os.path.join(save_dir, 'formular_answers.yaml'), 'w') as file:\n",
    "        answers = yaml.dump( formular_answers.to_dict(), file) \n",
    "    \n",
    "    for image_column in image_columns:\n",
    "        url_string = dataframe[image_column][index]\n",
    "        urls = url_string.split(',')\n",
    "        images_path = os.path.join(save_dir, image_column)\n",
    "        if not os.path.exists(images_path):\n",
    "            os.makedirs(images_path)\n",
    "\n",
    "        for url in urls: \n",
    "            id = url.split('id=')[-1]\n",
    "            image_metadata = gdrive.files().get(fileId=id).execute()\n",
    "            image_name = image_metadata['name']\n",
    "            download_file(save_path = images_path,file_name = image_name, file_id = id)\n",
    "             \n"
   ]
  },
  {
   "cell_type": "code",
   "execution_count": 17,
   "metadata": {},
   "outputs": [],
   "source": [
    "text = yaml.dump(formular_answers) "
   ]
  },
  {
   "cell_type": "code",
   "execution_count": 21,
   "metadata": {},
   "outputs": [],
   "source": [
    "with open('test_df_to_yaml.yaml', 'w') as file:\n",
    "    documents = yaml.dump( formular_answers, file, default_flow_style=False)"
   ]
  },
  {
   "cell_type": "code",
   "execution_count": 23,
   "metadata": {},
   "outputs": [
    {
     "data": {
      "text/plain": [
       "{'Zeitstempel': '23.05.2024 11:50:06',\n",
       " 'Mit welchem Modell wurden die Bilder gemacht? ': 'Android',\n",
       " 'Name von Produkt': 'Play It Sexy',\n",
       " 'Marke': 'Playboy'}"
      ]
     },
     "execution_count": 23,
     "metadata": {},
     "output_type": "execute_result"
    }
   ],
   "source": [
    "formular_answers.to_dict()"
   ]
  },
  {
   "cell_type": "code",
   "execution_count": 25,
   "metadata": {},
   "outputs": [],
   "source": [
    "with open('test_df_to_yaml.yaml', 'w') as file:\n",
    "    documents = yaml.dump( formular_answers.to_dict(), file) "
   ]
  },
  {
   "cell_type": "code",
   "execution_count": 26,
   "metadata": {},
   "outputs": [],
   "source": [
    "read = yaml.load(open('test_df_to_yaml.yaml'), Loader=yaml.FullLoader)"
   ]
  },
  {
   "cell_type": "code",
   "execution_count": 30,
   "metadata": {},
   "outputs": [
    {
     "data": {
      "text/plain": [
       "'Android'"
      ]
     },
     "execution_count": 30,
     "metadata": {},
     "output_type": "execute_result"
    }
   ],
   "source": [
    "read['Mit welchem Modell wurden die Bilder gemacht? ']"
   ]
  },
  {
   "cell_type": "code",
   "execution_count": null,
   "metadata": {},
   "outputs": [],
   "source": []
  }
 ],
 "metadata": {
  "kernelspec": {
   "display_name": "bom-ZUG-ToxFox",
   "language": "python",
   "name": "python3"
  },
  "language_info": {
   "codemirror_mode": {
    "name": "ipython",
    "version": 3
   },
   "file_extension": ".py",
   "mimetype": "text/x-python",
   "name": "python",
   "nbconvert_exporter": "python",
   "pygments_lexer": "ipython3",
   "version": "3.11.9"
  }
 },
 "nbformat": 4,
 "nbformat_minor": 2
}
