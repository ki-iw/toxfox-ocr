{
 "cells": [
  {
   "cell_type": "markdown",
   "metadata": {},
   "source": [
    "# Exploring if we can get the \"ground trouth\" ingredients via barcodes "
   ]
  },
  {
   "cell_type": "markdown",
   "metadata": {},
   "source": [
    "- Install requirements: \n",
    "  ``` Brew install zbar ``` \n"
   ]
  },
  {
   "cell_type": "code",
   "execution_count": null,
   "metadata": {},
   "outputs": [],
   "source": [
    "import requests\n",
    "import cv2\n",
    "import os\n",
    "import pyzbar.pyzbar as pyzbar\n",
    "import json\n",
    "\n",
    "import yaml"
   ]
  },
  {
   "cell_type": "code",
   "execution_count": null,
   "metadata": {},
   "outputs": [],
   "source": [
    "data_dir = os.path.join(os.path.dirname(os.getcwd()), \"data\")"
   ]
  },
  {
   "cell_type": "code",
   "execution_count": null,
   "metadata": {},
   "outputs": [],
   "source": [
    "products = [entity for entity in os.listdir(os.path.join(data_dir, \"raw\")) if entity.startswith(\"product\")]"
   ]
  },
  {
   "cell_type": "code",
   "execution_count": null,
   "metadata": {},
   "outputs": [],
   "source": [
    "def barcode_reader(image_path: str):\n",
    "\n",
    "    img = cv2.imread(image_path)\n",
    "    test_pyzbar = pyzbar.decode(img)\n",
    "    if len(test_pyzbar) > 1:\n",
    "        print(f\"warning: found {len(test_pyzbar)} barcodes in picture: {image_path}\")\n",
    "\n",
    "    for barcode in pyzbar.decode(img):\n",
    "        decoded = barcode.data.decode(\"utf-8\")\n",
    "        return decoded"
   ]
  },
  {
   "cell_type": "code",
   "execution_count": null,
   "metadata": {},
   "outputs": [],
   "source": [
    "found_counter = 0\n",
    "for product in products:\n",
    "    product_path = os.path.join(data_dir, \"raw\", product, \"Barcode\")\n",
    "\n",
    "    # We take the first one for now, maybe we need to look at more photos\n",
    "    image_name = os.listdir(os.path.join(data_dir, \"raw\", product, \"Barcode\"))[0]\n",
    "\n",
    "    image_path = os.path.join(product_path, image_name)\n",
    "    # print(image_path)\n",
    "    barcode = barcode_reader(image_path)\n",
    "\n",
    "    # print(barcode)\n",
    "    r = requests.get(f\"https://world.openfoodfacts.org/api/v0/product/{barcode}.json\")\n",
    "\n",
    "    result = json.loads(r.text)\n",
    "    if result[\"status_verbose\"] == \"product not found\":\n",
    "        print(f\"Product {barcode}, {product} not found, testing other API\")\n",
    "        r = requests.get(f\"https://world.openbeautyfacts.org/api/v2/product/{barcode}.json\")\n",
    "        result = json.loads(r.text)\n",
    "        if result[\"status_verbose\"] == \"product not found\":\n",
    "            print(f\"Product {barcode}, {product} not found\")\n",
    "        else:\n",
    "            found_counter += 1\n",
    "            print(f\"Product {product} found, barcode: {barcode}\")\n",
    "            save_dir = os.path.join(data_dir, \"validation\", product)\n",
    "            if not os.path.exists(save_dir):\n",
    "                os.makedirs(save_dir)\n",
    "            with open(os.path.join(save_dir, \"openbeautyfacts_data.yaml\"), \"w\") as file:\n",
    "                data = yaml.dump(result, file)\n",
    "    else:\n",
    "        found_counter += 1\n",
    "        print(f\"Product {product} found, barcode: {barcode}\")\n",
    "        save_dir = os.path.join(data_dir, \"validation\", product)\n",
    "        if not os.path.exists(save_dir):\n",
    "            os.makedirs(save_dir)\n",
    "        with open(os.path.join(save_dir, \"openfoodfacts_data.yaml\"), \"w\") as file:\n",
    "            data = yaml.dump(result, file)\n",
    "\n",
    "print(f\"Found {found_counter}/{len(products)} products\")"
   ]
  },
  {
   "cell_type": "code",
   "execution_count": null,
   "metadata": {},
   "outputs": [],
   "source": []
  },
  {
   "cell_type": "markdown",
   "metadata": {},
   "source": [
    "# Create barcode and image dataset, to get ground trouth \n"
   ]
  },
  {
   "cell_type": "code",
   "execution_count": null,
   "metadata": {},
   "outputs": [],
   "source": [
    "output_dir = os.path.join(data_dir, \"tmp\")\n",
    "\n",
    "if not os.path.exists(output_dir):\n",
    "    os.makedirs(output_dir)"
   ]
  },
  {
   "cell_type": "code",
   "execution_count": null,
   "metadata": {},
   "outputs": [],
   "source": [
    "save_barcodes = []\n",
    "for product in products:\n",
    "    print(\"Processing product\", product)\n",
    "    product_path = os.path.join(data_dir, \"raw\", product, \"Barcode\")\n",
    "\n",
    "    # We take the first one for now, maybe we need to look at more photos\n",
    "    image_name = os.listdir(os.path.join(data_dir, \"raw\", product, \"Barcode\"))[0]\n",
    "\n",
    "    barcode_path = os.path.join(product_path, image_name)\n",
    "    # print(image_path)\n",
    "    barcode = barcode_reader(barcode_path)\n",
    "\n",
    "    if barcode == None:\n",
    "        print(f\"Could not read barcode for {product}, skipping\")\n",
    "        continue\n",
    "    # Get all images\n",
    "    image_dir_path = os.path.join(data_dir, \"raw\", product, \"Inhaltsstoffe\")\n",
    "    images = os.listdir(image_dir_path)\n",
    "\n",
    "    if len(images) > 1:\n",
    "        for i, image in enumerate(images):\n",
    "            print(\"image: \", image)\n",
    "            image_path = os.path.join(image_dir_path, image)\n",
    "            img = cv2.imread(image_path)\n",
    "            postfix = image.split(\".\")[-1]\n",
    "            save_name = f\"{barcode}_{i}.{postfix}\"\n",
    "            cv2.imwrite(os.path.join(output_dir, save_name), img)\n",
    "    else:\n",
    "        print(\"processing image \", images[0])\n",
    "        image_path = os.path.join(image_dir_path, images[0])\n",
    "        img = cv2.imread(image_path)\n",
    "        postfix = images[0].split(\".\")[-1]\n",
    "        save_name = f\"{barcode}.{postfix}\"\n",
    "        cv2.imwrite(os.path.join(output_dir, save_name), img)"
   ]
  },
  {
   "cell_type": "code",
   "execution_count": null,
   "metadata": {},
   "outputs": [],
   "source": [
    "with open(os.path.join(os.getcwd(), \"barcodes.csv\"), \"w\") as text_file:\n",
    "    text_file.write(\"\\n\".join(filter(None, save_barcodes)))"
   ]
  },
  {
   "cell_type": "code",
   "execution_count": null,
   "metadata": {},
   "outputs": [],
   "source": [
    "save_barcodes"
   ]
  },
  {
   "cell_type": "code",
   "execution_count": null,
   "metadata": {},
   "outputs": [],
   "source": []
  }
 ],
 "metadata": {
  "kernelspec": {
   "display_name": "bom-ZUG-ToxFox",
   "language": "python",
   "name": "python3"
  },
  "language_info": {
   "codemirror_mode": {
    "name": "ipython",
    "version": 3
   },
   "file_extension": ".py",
   "mimetype": "text/x-python",
   "name": "python",
   "nbconvert_exporter": "python",
   "pygments_lexer": "ipython3",
   "version": "3.11.9"
  }
 },
 "nbformat": 4,
 "nbformat_minor": 2
}
